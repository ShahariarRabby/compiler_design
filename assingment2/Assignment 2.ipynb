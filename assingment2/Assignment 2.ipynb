{
 "cells": [
  {
   "cell_type": "code",
   "execution_count": 27,
   "metadata": {},
   "outputs": [
    {
     "name": "stdout",
     "output_type": "stream",
     "text": [
      "enter the eqna * b + a * c + b * c\n"
     ]
    }
   ],
   "source": [
    "y = input('enter the eqn')"
   ]
  },
  {
   "cell_type": "code",
   "execution_count": 28,
   "metadata": {},
   "outputs": [],
   "source": [
    "operator = ['*', '/', '-', '+']"
   ]
  },
  {
   "cell_type": "code",
   "execution_count": 29,
   "metadata": {},
   "outputs": [],
   "source": [
    "output = []\n",
    "stuck = []\n",
    "for i in y:\n",
    "    if i not in operator:\n",
    "        output.append(i)\n",
    "    else:\n",
    "        if len(stuck) != 0:\n",
    "            if operator.index(stuck[-1]) >= operator.index(i):\n",
    "                stuck.append(i)\n",
    "            else:\n",
    "                output.append(stuck[-1])\n",
    "                stuck.pop()\n",
    "                stuck.append(i)\n",
    "        else:\n",
    "            stuck.append(i)"
   ]
  },
  {
   "cell_type": "code",
   "execution_count": 30,
   "metadata": {},
   "outputs": [
    {
     "name": "stdout",
     "output_type": "stream",
     "text": [
      "ab*ac*bc*++"
     ]
    }
   ],
   "source": [
    "outputs = output + stuck[::-1]\n",
    "for i in outputs:\n",
    "    if i != \" \":\n",
    "        print(i, end=\"\")"
   ]
  },
  {
   "cell_type": "code",
   "execution_count": null,
   "metadata": {},
   "outputs": [],
   "source": []
  }
 ],
 "metadata": {
  "kernelspec": {
   "display_name": "Python 3",
   "language": "python",
   "name": "python3"
  },
  "language_info": {
   "codemirror_mode": {
    "name": "ipython",
    "version": 3
   },
   "file_extension": ".py",
   "mimetype": "text/x-python",
   "name": "python",
   "nbconvert_exporter": "python",
   "pygments_lexer": "ipython3",
   "version": "3.6.2"
  }
 },
 "nbformat": 4,
 "nbformat_minor": 2
}
