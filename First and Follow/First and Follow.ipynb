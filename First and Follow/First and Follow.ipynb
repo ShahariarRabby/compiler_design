{
 "cells": [
  {
   "cell_type": "markdown",
   "metadata": {},
   "source": [
    "### Finds the first and follow for a given grammar"
   ]
  },
  {
   "cell_type": "code",
   "execution_count": 1,
   "metadata": {
    "collapsed": true
   },
   "outputs": [],
   "source": [
    "from collections import OrderedDict"
   ]
  },
  {
   "cell_type": "code",
   "execution_count": 2,
   "metadata": {
    "collapsed": true
   },
   "outputs": [],
   "source": [
    "rules = [['S->ABCD'], ['A->b'], ['A->x'], ['B->c'], ['C->d'], ['D->e']]  # Raw grammar rules\n",
    "firsts = []  # Used as temp storage for firsts if needed"
   ]
  },
  {
   "cell_type": "code",
   "execution_count": 3,
   "metadata": {
    "collapsed": true
   },
   "outputs": [],
   "source": [
    "# Ordered dictionary to maintain the order of saving in the dictionary\n",
    "# useful when doing the actual first finding in one pass.\n",
    "rules_dict = OrderedDict()  # Dictionary to store all the rules in the grammar\n",
    "firsts_dict = OrderedDict()  # Dictionary to store all the firsts\n",
    "follow_dict = OrderedDict()  # Dictionary that stores all follows"
   ]
  },
  {
   "cell_type": "code",
   "execution_count": 4,
   "metadata": {
    "collapsed": true
   },
   "outputs": [],
   "source": [
    "def non_term_appender(firsts, rules):\n",
    "    \"\"\"Adds the non terminals on the left to the firsts_dict\"\"\"\n",
    "    for rule in rules:\n",
    "        if rule[0][0] not in firsts:\n",
    "            firsts.append(rule[0][0])\n",
    "            firsts_dict[rule[0][0]] = []\n",
    "            follow_dict[rule[0][0]] = []"
   ]
  },
  {
   "cell_type": "markdown",
   "metadata": {},
   "source": [
    "----\n",
    "# ++++++    Following code is used to find firsts   +++++++++"
   ]
  },
  {
   "cell_type": "code",
   "execution_count": 5,
   "metadata": {
    "collapsed": true
   },
   "outputs": [],
   "source": [
    "number_of_rules = len(rules)\n",
    "rule_count = first_count = 0\n",
    "non_term_appender(firsts, rules)\n",
    "for first in firsts:\n",
    "    rules_dict[first] = rules[rule_count][0][3:]\n",
    "    rule_count += 1\n",
    "\n",
    "for rule in rules:\n",
    "    if rule[0][3].islower():\n",
    "        firsts_dict[rule[0][0]].extend(rule[0][3])\n",
    "# TODO try and re implement one pass, as an else condition in the above loop.\n",
    "for rule in rules:\n",
    "    if rule[0][3].isupper():\n",
    "        firsts_dict[rule[0][0]].extend(firsts_dict[rule[0][3]])"
   ]
  },
  {
   "cell_type": "code",
   "execution_count": 6,
   "metadata": {},
   "outputs": [
    {
     "name": "stdout",
     "output_type": "stream",
     "text": [
      "First S --> ['b', 'x']\n",
      "First A --> ['b', 'x']\n",
      "First B --> ['c']\n",
      "First C --> ['d']\n",
      "First D --> ['e']\n"
     ]
    }
   ],
   "source": [
    "for k in firsts_dict:\n",
    "    print(\"First\", k,end=' --> ')\n",
    "    print(\"%s\" % firsts_dict[k])"
   ]
  },
  {
   "cell_type": "markdown",
   "metadata": {},
   "source": [
    "____\n",
    "# ++++++    Following code is used to find the follows  ++++++\n"
   ]
  },
  {
   "cell_type": "code",
   "execution_count": 7,
   "metadata": {
    "collapsed": true
   },
   "outputs": [],
   "source": [
    "rules_keys = list(rules_dict.keys())\n",
    "key_count = len(rules_keys)\n",
    "\n",
    "for k in rules_dict:\n",
    "    tmp_rule_str = rules_dict[k]\n",
    "    if k == rules_keys[0]:\n",
    "        follow_dict[k].append('$')\n",
    "    for i in range(key_count):\n",
    "        if rules_keys[i] in tmp_rule_str:\n",
    "            # Follow finding for last non-terminal in the\n",
    "            tmp_rule_list = list(tmp_rule_str)\n",
    "            # stores the index non-terminal we are finding the follow for in a\n",
    "            # variable\n",
    "            current_non_term_index = tmp_rule_list.index(rules_keys[i])\n",
    "\n",
    "            if current_non_term_index == (len(tmp_rule_list) - 1):\n",
    "                # if the index of the current non-term is at last one, means that\n",
    "                # the follow for the current non-term will be the follow of the\n",
    "                # left-hand side\n",
    "                follow_dict[rules_keys[i]].extend(follow_dict[rules_keys[0]])\n",
    "            else:\n",
    "                # If not then the first of the next non-term from the current\n",
    "                # non-term becomes the follow of the current\n",
    "                follow_dict[rules_keys[i]].extend(\n",
    "                    firsts_dict[rules_keys[(i + 1) % key_count]])"
   ]
  },
  {
   "cell_type": "code",
   "execution_count": 8,
   "metadata": {},
   "outputs": [
    {
     "name": "stdout",
     "output_type": "stream",
     "text": [
      "Follows S --> ['$']\n",
      "Follows A --> ['c']\n",
      "Follows B --> ['d']\n",
      "Follows C --> ['e']\n",
      "Follows D --> ['$']\n"
     ]
    }
   ],
   "source": [
    "for k in follow_dict:\n",
    "    print(\"Follows\", k,end=' --> ')\n",
    "    print(\"%s\" % follow_dict[k])"
   ]
  }
 ],
 "metadata": {
  "kernelspec": {
   "display_name": "Python 3",
   "language": "python",
   "name": "python3"
  },
  "language_info": {
   "codemirror_mode": {
    "name": "ipython",
    "version": 3
   },
   "file_extension": ".py",
   "mimetype": "text/x-python",
   "name": "python",
   "nbconvert_exporter": "python",
   "pygments_lexer": "ipython3",
   "version": "3.6.1"
  }
 },
 "nbformat": 4,
 "nbformat_minor": 2
}
