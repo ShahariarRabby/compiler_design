{
 "cells": [
  {
   "cell_type": "code",
   "execution_count": 6,
   "metadata": {},
   "outputs": [
    {
     "name": "stderr",
     "output_type": "stream",
     "text": [
      "warning: LF will be replaced by CRLF in .gitignore.\n",
      "The file will have its original line endings in your working directory.\n",
      "warning: LF will be replaced by CRLF in First and Follow/First and Follow.ipynb.\n",
      "The file will have its original line endings in your working directory.\n",
      "warning: LF will be replaced by CRLF in github.ipynb.\n",
      "The file will have its original line endings in your working directory.\n",
      "warning: LF will be replaced by CRLF in Assignments for basics!/.gitignore.\n",
      "The file will have its original line endings in your working directory.\n",
      "warning: LF will be replaced by CRLF in First and Follow/.gitignore.\n",
      "The file will have its original line endings in your working directory.\n",
      "warning: LF will be replaced by CRLF in First and Follow/First and Follow.ipynb.ipynb.\n",
      "The file will have its original line endings in your working directory.\n",
      "warning: LF will be replaced by CRLF in infixToPostfix/.gitignore.\n",
      "The file will have its original line endings in your working directory.\n"
     ]
    }
   ],
   "source": [
    "! git add ."
   ]
  },
  {
   "cell_type": "code",
   "execution_count": 7,
   "metadata": {},
   "outputs": [
    {
     "name": "stdout",
     "output_type": "stream",
     "text": [
      "[master b4e58ec] gitignore\n",
      " 8 files changed, 301 insertions(+), 575 deletions(-)\n",
      " create mode 100644 Assignments for basics!/.gitignore\n",
      " create mode 100644 First and Follow/.gitignore\n",
      " create mode 100644 First and Follow/First and Follow.ipynb.ipynb\n",
      " delete mode 100644 Symbol_table/.ipynb_checkpoints/symbol_table-checkpoint.ipynb\n",
      " create mode 100644 infixToPostfix/.gitignore\n"
     ]
    }
   ],
   "source": [
    "! git commit -m \"gitignore\""
   ]
  },
  {
   "cell_type": "code",
   "execution_count": 8,
   "metadata": {},
   "outputs": [
    {
     "name": "stderr",
     "output_type": "stream",
     "text": [
      "To https://github.com/shahariarrabby/compiler_design.git\n",
      "   3ea983b..b4e58ec  master -> master\n"
     ]
    }
   ],
   "source": [
    "! git push origin master"
   ]
  },
  {
   "cell_type": "code",
   "execution_count": null,
   "metadata": {
    "collapsed": true
   },
   "outputs": [],
   "source": []
  }
 ],
 "metadata": {
  "kernelspec": {
   "display_name": "Python 3",
   "language": "python",
   "name": "python3"
  },
  "language_info": {
   "codemirror_mode": {
    "name": "ipython",
    "version": 3
   },
   "file_extension": ".py",
   "mimetype": "text/x-python",
   "name": "python",
   "nbconvert_exporter": "python",
   "pygments_lexer": "ipython3",
   "version": "3.6.1"
  }
 },
 "nbformat": 4,
 "nbformat_minor": 2
}
