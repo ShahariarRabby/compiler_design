{
 "cells": [
  {
   "cell_type": "code",
   "execution_count": 1,
   "metadata": {},
   "outputs": [
    {
     "name": "stderr",
     "output_type": "stream",
     "text": [
      "warning: LF will be replaced by CRLF in First and Follow/First and Follow.ipynb.\n",
      "The file will have its original line endings in your working directory.\n",
      "warning: LF will be replaced by CRLF in github.ipynb.\n",
      "The file will have its original line endings in your working directory.\n",
      "warning: LF will be replaced by CRLF in First and Follow/.ipynb_checkpoints/First and Follow-checkpoint.ipynb.\n",
      "The file will have its original line endings in your working directory.\n"
     ]
    },
    {
     "name": "stdout",
     "output_type": "stream",
     "text": [
      "[master f6ccbca] First and Follow Readme\n",
      " 4 files changed, 313 insertions(+), 50 deletions(-)\n",
      " delete mode 100644 .ipynb_checkpoints/github-checkpoint.ipynb\n",
      " create mode 100644 First and Follow/.ipynb_checkpoints/First and Follow-checkpoint.ipynb\n"
     ]
    },
    {
     "name": "stderr",
     "output_type": "stream",
     "text": [
      "To https://github.com/shahariarrabby/compiler_design.git\n",
      "   308437d..f6ccbca  master -> master\n"
     ]
    }
   ],
   "source": [
    "! git add .\n",
    "! git commit -m \"First and Follow Readme\"\n",
    "! git push origin master"
   ]
  }
 ],
 "metadata": {
  "kernelspec": {
   "display_name": "Python 3",
   "language": "python",
   "name": "python3"
  },
  "language_info": {
   "codemirror_mode": {
    "name": "ipython",
    "version": 3
   },
   "file_extension": ".py",
   "mimetype": "text/x-python",
   "name": "python",
   "nbconvert_exporter": "python",
   "pygments_lexer": "ipython3",
   "version": "3.6.1"
  }
 },
 "nbformat": 4,
 "nbformat_minor": 2
}
