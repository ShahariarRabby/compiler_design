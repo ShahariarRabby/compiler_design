{
 "cells": [
  {
   "cell_type": "code",
   "execution_count": 1,
   "metadata": {},
   "outputs": [
    {
     "name": "stderr",
     "output_type": "stream",
     "text": [
      "warning: LF will be replaced by CRLF in github.ipynb.\n",
      "The file will have its original line endings in your working directory.\n"
     ]
    }
   ],
   "source": [
    "! git add ."
   ]
  },
  {
   "cell_type": "code",
   "execution_count": 2,
   "metadata": {},
   "outputs": [
    {
     "name": "stdout",
     "output_type": "stream",
     "text": [
      "[master b31eedb] File removed\n",
      " 10 files changed, 28 insertions(+), 592 deletions(-)\n",
      " delete mode 100644 Assignments for basics!/.ipynb_checkpoints/A2-checkpoint.ipynb\n",
      " delete mode 100644 Assignments for basics!/.ipynb_checkpoints/A3-checkpoint.ipynb\n",
      " delete mode 100644 Assignments for basics!/.ipynb_checkpoints/A4-checkpoint.ipynb\n",
      " delete mode 100644 First and Follow/.gitignore\n",
      " delete mode 100644 First and Follow/.ipynb_checkpoints/First and Follow-checkpoint.ipynb\n",
      " delete mode 100644 First and Follow/First and Follow.ipynb.ipynb\n",
      " delete mode 100644 infixToPostfix/.ipynb_checkpoints/Assignment 2-checkpoint.ipynb\n",
      " delete mode 100644 infixToPostfix/.ipynb_checkpoints/infixToPostfix-checkpoint.ipynb\n"
     ]
    }
   ],
   "source": [
    "! git commit -m \"File removed\""
   ]
  },
  {
   "cell_type": "code",
   "execution_count": 3,
   "metadata": {},
   "outputs": [
    {
     "name": "stderr",
     "output_type": "stream",
     "text": [
      "To https://github.com/shahariarrabby/compiler_design.git\n",
      "   b4e58ec..b31eedb  master -> master\n"
     ]
    }
   ],
   "source": [
    "! git push origin master"
   ]
  },
  {
   "cell_type": "code",
   "execution_count": null,
   "metadata": {
    "collapsed": true
   },
   "outputs": [],
   "source": []
  }
 ],
 "metadata": {
  "kernelspec": {
   "display_name": "Python 3",
   "language": "python",
   "name": "python3"
  },
  "language_info": {
   "codemirror_mode": {
    "name": "ipython",
    "version": 3
   },
   "file_extension": ".py",
   "mimetype": "text/x-python",
   "name": "python",
   "nbconvert_exporter": "python",
   "pygments_lexer": "ipython3",
   "version": "3.6.1"
  }
 },
 "nbformat": 4,
 "nbformat_minor": 2
}
