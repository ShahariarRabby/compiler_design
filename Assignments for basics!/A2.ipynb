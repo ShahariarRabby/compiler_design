{
 "cells": [
  {
   "cell_type": "markdown",
   "metadata": {},
   "source": [
    "**PROBLEM 1)**"
   ]
  },
  {
   "cell_type": "code",
   "execution_count": 5,
   "metadata": {},
   "outputs": [
    {
     "name": "stdout",
     "output_type": "stream",
     "text": [
      "Inter number  4\n",
      "****"
     ]
    }
   ],
   "source": [
    "n = int(input('Inter number  '))\n",
    "for i in range(n):\n",
    "    print('*',end=\"\")"
   ]
  },
  {
   "cell_type": "markdown",
   "metadata": {},
   "source": [
    "**PROBLEM 2)** "
   ]
  },
  {
   "cell_type": "code",
   "execution_count": 84,
   "metadata": {},
   "outputs": [
    {
     "name": "stdout",
     "output_type": "stream",
     "text": [
      "Inter number  4\n",
      "Inter number  6\n",
      "******\n",
      "******\n",
      "******\n",
      "******\n"
     ]
    }
   ],
   "source": [
    "m = int(input('Inter number  '))\n",
    "n = int(input('Inter number  '))\n",
    "\n",
    "for i in range(m):\n",
    "    for j in range(n):\n",
    "        print('*',end='')\n",
    "    print('')"
   ]
  },
  {
   "cell_type": "markdown",
   "metadata": {},
   "source": [
    "**PROBLEM 3)**"
   ]
  },
  {
   "cell_type": "code",
   "execution_count": 1,
   "metadata": {},
   "outputs": [
    {
     "name": "stdout",
     "output_type": "stream",
     "text": [
      "Inter number  4\n",
      "*\n",
      "**\n",
      "***\n",
      "****\n"
     ]
    },
    {
     "data": {
      "text/plain": [
       "[None, None, None, None]"
      ]
     },
     "execution_count": 1,
     "metadata": {},
     "output_type": "execute_result"
    }
   ],
   "source": [
    "n = int(input('Inter number  '))\n",
    "[print('*'*i) for i in range(1, n+1)]"
   ]
  },
  {
   "cell_type": "markdown",
   "metadata": {},
   "source": [
    "**PROBLEM 4)**"
   ]
  },
  {
   "cell_type": "code",
   "execution_count": 73,
   "metadata": {},
   "outputs": [
    {
     "name": "stdout",
     "output_type": "stream",
     "text": [
      "    *\n",
      "   **\n",
      "  ***\n",
      " ****\n"
     ]
    }
   ],
   "source": [
    "n = int(input('Inter number  '))\n",
    "k = 0\n",
    "l = 1\n",
    "for i in range(n,0,-1):\n",
    "    k+=1\n",
    "    l+=1\n",
    "    print(' '*i,end='')\n",
    "    for j in range(k,l):\n",
    "        print('*'*j)"
   ]
  },
  {
   "cell_type": "code",
   "execution_count": 83,
   "metadata": {},
   "outputs": [
    {
     "name": "stdout",
     "output_type": "stream",
     "text": [
      "Inter number  4\n",
      "    *\n",
      "   ***\n",
      "  *****\n",
      " *******\n"
     ]
    }
   ],
   "source": [
    "n = int(input('Inter number  '))\n",
    "k = 0\n",
    "l = 1\n",
    "m = 0\n",
    "for i in range(n,0,-1):\n",
    "    k+=1\n",
    "    l+=1\n",
    "    print(' '*i,end='')\n",
    "    for j in range(k,l):\n",
    "        print('*'*(j+m),end='')\n",
    "    m+=1\n",
    "    print('')"
   ]
  },
  {
   "cell_type": "markdown",
   "metadata": {},
   "source": [
    "**PROBLEM 6)**"
   ]
  },
  {
   "cell_type": "code",
   "execution_count": 116,
   "metadata": {},
   "outputs": [
    {
     "name": "stdout",
     "output_type": "stream",
     "text": [
      "Inter number  3\n",
      "   *\n",
      "  ***\n",
      " *****\n",
      "  ***\n",
      "   *\n"
     ]
    }
   ],
   "source": [
    "n = int(input('Inter number  '))\n",
    "k = 0\n",
    "l = 1\n",
    "for i in range(n,0,-1):\n",
    "    k+=1\n",
    "    l+=1\n",
    "    print(' '*i,end='')\n",
    "    for j in range(k,l):\n",
    "        print('*'*j,end='')\n",
    "    for jj in range(k-1,l-1):\n",
    "        print('*'*jj)\n",
    "n = n -1\n",
    "k = n\n",
    "l = n + 1\n",
    "for i in range(2,n+2):\n",
    "    k-=1\n",
    "    l-=1\n",
    "    print(' '*i,end='')\n",
    "    for j in range(l,k,-1):\n",
    "        print('*'*j,end='')\n",
    "    for jj in range(l-1,k-1,-1):\n",
    "        print('*'*jj)"
   ]
  },
  {
   "cell_type": "markdown",
   "metadata": {},
   "source": [
    "**PROBLEM 7)**"
   ]
  },
  {
   "cell_type": "code",
   "execution_count": 157,
   "metadata": {},
   "outputs": [
    {
     "name": "stdout",
     "output_type": "stream",
     "text": [
      "Enter length and width(separete with space, example: 5 4): 5 4\n",
      "*****\n",
      "*   *\n",
      "*   *\n",
      "*****\n"
     ]
    }
   ],
   "source": [
    "m , n = map(int,input('Enter length and width(separete with space, example: 5 4): ').split())\n",
    "\n",
    "for i in range(1,n-1):\n",
    "    if i is 1:\n",
    "        print('*'*m) \n",
    "    print('*',end='')\n",
    "    print(' '*(m-2),end='')\n",
    "    print('*')\n",
    "    if i is n-2:\n",
    "        print('*'*m)     "
   ]
  },
  {
   "cell_type": "markdown",
   "metadata": {},
   "source": [
    "**PROBLEM 8)**"
   ]
  },
  {
   "cell_type": "code",
   "execution_count": 198,
   "metadata": {},
   "outputs": [
    {
     "name": "stdout",
     "output_type": "stream",
     "text": [
      "*\n",
      "**\n",
      "* *\n",
      "*  *\n",
      "*****\n"
     ]
    }
   ],
   "source": [
    "n = 5 # int(input('Inter number  '))\n",
    "if n >=2:\n",
    "    for i in range(1,3):\n",
    "        print('*'*i)\n",
    "    for i in range(1,n-2):\n",
    "        print('*',end='')\n",
    "        print(' '*i,end='')\n",
    "        print('*',end='')\n",
    "        print('')\n",
    "    if n >2:\n",
    "        print('*'*n)\n",
    "else:\n",
    "    print('*')"
   ]
  },
  {
   "cell_type": "markdown",
   "metadata": {},
   "source": [
    "**PROBLEM 9)**"
   ]
  },
  {
   "cell_type": "code",
   "execution_count": 214,
   "metadata": {},
   "outputs": [
    {
     "name": "stdout",
     "output_type": "stream",
     "text": [
      "Inter number  5\n",
      "     *\n",
      "    **\n",
      "   * *\n",
      "  *  *\n",
      " *****\n"
     ]
    }
   ],
   "source": [
    "n = int(input('Inter number  '))\n",
    "k = 0\n",
    "l = 1\n",
    "for i in range(n,0,-1):\n",
    "    k+=1\n",
    "    l+=1\n",
    "    print(' '*i,end='')\n",
    "    if k < 3:\n",
    "        for j in range(k,l):\n",
    "            print('*'*j)\n",
    "    else:\n",
    "        if i != 1:\n",
    "            print('*',end='')\n",
    "            print(' '*(k-2),end='')\n",
    "            print('*',end='')\n",
    "            print('')\n",
    "        else:\n",
    "            print('*'*n)"
   ]
  },
  {
   "cell_type": "markdown",
   "metadata": {},
   "source": [
    "**PROBLEM 10)**"
   ]
  },
  {
   "cell_type": "code",
   "execution_count": 259,
   "metadata": {},
   "outputs": [
    {
     "name": "stdout",
     "output_type": "stream",
     "text": [
      "Inter number  4\n",
      "   * \n",
      "  * *\n",
      " *   *\n",
      "*******\n"
     ]
    }
   ],
   "source": [
    "n = int(input('Inter number  '))\n",
    "k = 0\n",
    "l = 1\n",
    "for i in range(n-1,0,-1):\n",
    "    k+=1\n",
    "    l+=1\n",
    "    print(' '*i,end='')\n",
    "    for j in range(k,l):\n",
    "        print('*',end='')\n",
    "        print(' '*(j-1),end='')\n",
    "        if i != n-1:\n",
    "            for jj in range(k-2,l-2):\n",
    "                print(' '*(jj),end='')\n",
    "                print('*')\n",
    "        else:\n",
    "            print(' ')\n",
    "print('*'*(n+n-1))"
   ]
  },
  {
   "cell_type": "markdown",
   "metadata": {},
   "source": [
    "**PROBLEM 11)**"
   ]
  },
  {
   "cell_type": "code",
   "execution_count": 445,
   "metadata": {},
   "outputs": [
    {
     "name": "stdout",
     "output_type": "stream",
     "text": [
      "Inter number  5\n",
      "     * \n",
      "    * *\n",
      "   *   *\n",
      "  *     *\n",
      " *       *\n",
      "  *     *\n",
      "   *   *\n",
      "    * *\n",
      "     *"
     ]
    }
   ],
   "source": [
    "n = int(input('Inter number  '))\n",
    "k = 0\n",
    "l = 1\n",
    "for i in range(n,0,-1):\n",
    "    k+=1\n",
    "    l+=1\n",
    "    print(' '*i,end='')\n",
    "    for j in range(k,l):\n",
    "        print('*',end='')\n",
    "        print(' '*(j-1),end='')\n",
    "        if i != n:\n",
    "            for jj in range(k-2,l-2):\n",
    "                print(' '*(jj),end='')\n",
    "                print('*')\n",
    "        else:\n",
    "            print(' ')\n",
    "n = n-1\n",
    "k = n\n",
    "l = n + 1\n",
    "for i in range(2,n+2):\n",
    "    k-=1\n",
    "    l-=1\n",
    "    print(' '*i,end='')\n",
    "    for j in range(l,k,-1):\n",
    "        print('*',end='')\n",
    "        print(' '*(j-2),end='')\n",
    "    for jj in range(l-1,k-1,-1):\n",
    "        print(' '*jj,end='')\n",
    "        if k != 0:\n",
    "            print('*')"
   ]
  },
  {
   "cell_type": "markdown",
   "metadata": {},
   "source": [
    "**PROBLEM 12)**"
   ]
  },
  {
   "cell_type": "code",
   "execution_count": 322,
   "metadata": {},
   "outputs": [
    {
     "name": "stdout",
     "output_type": "stream",
     "text": [
      "123456"
     ]
    }
   ],
   "source": [
    "n = 6 \n",
    "for i in range(1,n+1):\n",
    "    print(i,end='')"
   ]
  },
  {
   "cell_type": "markdown",
   "metadata": {},
   "source": [
    "**PROBLEM 13)**"
   ]
  },
  {
   "cell_type": "code",
   "execution_count": 331,
   "metadata": {},
   "outputs": [
    {
     "name": "stdout",
     "output_type": "stream",
     "text": [
      "123456\n",
      "123456\n",
      "123456\n",
      "123456\n"
     ]
    }
   ],
   "source": [
    "m = 4\n",
    "n = 6 \n",
    "for i in range(1,m+1):\n",
    "    for j in range(1,n+1):\n",
    "        print(j,end='')\n",
    "    print('')"
   ]
  },
  {
   "cell_type": "markdown",
   "metadata": {},
   "source": [
    "**PROBLEM 14)**"
   ]
  },
  {
   "cell_type": "code",
   "execution_count": 344,
   "metadata": {},
   "outputs": [
    {
     "name": "stdout",
     "output_type": "stream",
     "text": [
      "1\n",
      "12\n",
      "123\n",
      "1234\n"
     ]
    }
   ],
   "source": [
    "m = 4\n",
    "k = 2\n",
    "for i in range(1,m+1):\n",
    "    for j in range(1,k):\n",
    "        print(j,end='')\n",
    "    print('')\n",
    "    k+=1;"
   ]
  },
  {
   "cell_type": "markdown",
   "metadata": {},
   "source": [
    "**PROBLEM 15)**"
   ]
  },
  {
   "cell_type": "code",
   "execution_count": 353,
   "metadata": {},
   "outputs": [
    {
     "name": "stdout",
     "output_type": "stream",
     "text": [
      "     \n",
      "    1\n",
      "   12\n",
      "  123\n",
      " 1234\n"
     ]
    }
   ],
   "source": [
    "n = 5 #int(input('Inter number  '))\n",
    "k = 0\n",
    "l = 1\n",
    "for i in range(n,0,-1):\n",
    "    k+=1\n",
    "    l+=1\n",
    "    print(' '*i,end='')\n",
    "    for j in range(k,l):\n",
    "        for m in range(1,j):\n",
    "            print(m,end='')\n",
    "        print('')"
   ]
  },
  {
   "cell_type": "markdown",
   "metadata": {},
   "source": [
    "**PROBLEM 16)**"
   ]
  },
  {
   "cell_type": "code",
   "execution_count": 447,
   "metadata": {},
   "outputs": [
    {
     "name": "stdout",
     "output_type": "stream",
     "text": [
      "    1\n",
      "   123\n",
      "  12345\n",
      " 1234567\n"
     ]
    }
   ],
   "source": [
    "n = 4 #int(input('Inter number  '))\n",
    "k = 0\n",
    "l = 1\n",
    "for i in range(n,0,-1):\n",
    "    k+=1\n",
    "    l+=1\n",
    "    print(' '*i,end='')\n",
    "    for j in range(k,l):\n",
    "        for jj in range(1,j+k):\n",
    "            print(jj,end='')\n",
    "    print('')"
   ]
  },
  {
   "cell_type": "code",
   "execution_count": null,
   "metadata": {
    "collapsed": true
   },
   "outputs": [],
   "source": []
  }
 ],
 "metadata": {
  "kernelspec": {
   "display_name": "Python 3",
   "language": "python",
   "name": "python3"
  },
  "language_info": {
   "codemirror_mode": {
    "name": "ipython",
    "version": 3
   },
   "file_extension": ".py",
   "mimetype": "text/x-python",
   "name": "python",
   "nbconvert_exporter": "python",
   "pygments_lexer": "ipython3",
   "version": "3.6.1"
  }
 },
 "nbformat": 4,
 "nbformat_minor": 2
}
