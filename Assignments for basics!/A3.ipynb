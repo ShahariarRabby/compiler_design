{
 "cells": [
  {
   "cell_type": "code",
   "execution_count": 5,
   "metadata": {},
   "outputs": [
    {
     "name": "stdout",
     "output_type": "stream",
     "text": [
      "7 13 2 10 6\n",
      "7\n",
      "13\n",
      "2\n",
      "10\n",
      "6\n"
     ]
    }
   ],
   "source": [
    "a = list(map(int,input().split()))\n",
    "for i in a:\n",
    "    print(i)"
   ]
  },
  {
   "cell_type": "code",
   "execution_count": 6,
   "metadata": {},
   "outputs": [
    {
     "name": "stdout",
     "output_type": "stream",
     "text": [
      "6\n",
      "10\n",
      "2\n",
      "13\n",
      "7\n"
     ]
    }
   ],
   "source": [
    "a = list(map(int,input().split()))\n",
    "for i in reversed(a):\n",
    "    print(i)"
   ]
  },
  {
   "cell_type": "code",
   "execution_count": 11,
   "metadata": {},
   "outputs": [
    {
     "name": "stdout",
     "output_type": "stream",
     "text": [
      "3\n"
     ]
    }
   ],
   "source": [
    "a = list(map(int,input().split()))\n",
    "k = 0\n",
    "for i in a:\n",
    "    if i < 10:\n",
    "        k+=1\n",
    "print(k)"
   ]
  },
  {
   "cell_type": "code",
   "execution_count": 18,
   "metadata": {},
   "outputs": [
    {
     "name": "stdout",
     "output_type": "stream",
     "text": [
      "7\n",
      "13\n",
      "2\n",
      "10\n",
      "6\n",
      "15\n",
      "2\n",
      "2 is found\n"
     ]
    }
   ],
   "source": [
    "a = []\n",
    "for i in range(6):\n",
    "    a.append(int(input()))\n",
    "x = int(input())\n",
    "if x in a:\n",
    "    print(x, 'is found')\n",
    "else:\n",
    "    print(x, 'is not found')"
   ]
  },
  {
   "cell_type": "code",
   "execution_count": 19,
   "metadata": {},
   "outputs": [
    {
     "name": "stdout",
     "output_type": "stream",
     "text": [
      "7\n",
      "13\n",
      "2\n",
      "10\n",
      "6\n",
      "15\n",
      "2\n",
      "2 is found at location 2\n"
     ]
    }
   ],
   "source": [
    "a = []\n",
    "for i in range(6):\n",
    "    a.append(int(input()))\n",
    "x = int(input())\n",
    "if x in a:\n",
    "    print(x, 'is found at location', a.index(x))\n",
    "else:\n",
    "    print(x, 'is not found')"
   ]
  },
  {
   "cell_type": "code",
   "execution_count": 23,
   "metadata": {},
   "outputs": [
    {
     "name": "stdout",
     "output_type": "stream",
     "text": [
      "7\n",
      "13\n",
      "2\n",
      "10\n",
      "6\n",
      "\n",
      "Max is 13\n"
     ]
    }
   ],
   "source": [
    "a = []\n",
    "for i in range(5):\n",
    "    a.append(int(input()))\n",
    "print('\\nMax is',max(a))"
   ]
  },
  {
   "cell_type": "code",
   "execution_count": 24,
   "metadata": {},
   "outputs": [
    {
     "name": "stdout",
     "output_type": "stream",
     "text": [
      "7\n",
      "13\n",
      "2\n",
      "10\n",
      "6\n",
      "\n",
      "largest number 13 was found at location 1\n"
     ]
    }
   ],
   "source": [
    "a = []\n",
    "for i in range(5):\n",
    "    a.append(int(input()))\n",
    "b = max(a)\n",
    "print('\\nlargest number', b, 'was found at location',a.index(b))"
   ]
  },
  {
   "cell_type": "code",
   "execution_count": 26,
   "metadata": {},
   "outputs": [
    {
     "name": "stdout",
     "output_type": "stream",
     "text": [
      "7\n",
      "13\n",
      "-5\n",
      "10\n",
      "6\n",
      "\n",
      "largest number 13 was found at location 1\n",
      "\n",
      "smallest number -5 was found at location 2\n"
     ]
    }
   ],
   "source": [
    "a = []\n",
    "for i in range(5):\n",
    "    a.append(int(input()))\n",
    "b = max(a)\n",
    "c = min(a)\n",
    "print('\\nlargest number', b, 'was found at location',a.index(b))\n",
    "print('\\nsmallest number', c, 'was found at location',a.index(c))"
   ]
  },
  {
   "cell_type": "code",
   "execution_count": 31,
   "metadata": {},
   "outputs": [
    {
     "name": "stdout",
     "output_type": "stream",
     "text": [
      "7\n",
      "13\n",
      "2\n",
      "10\n",
      "6\n",
      "before: 7 13 2 10 6 \n",
      "after: 6 10 2 13 7 "
     ]
    }
   ],
   "source": [
    "a = []\n",
    "for i in range(5):\n",
    "    a.append(int(input()))\n",
    "\n",
    "print('before: ',end='')\n",
    "for i in (a):\n",
    "    print(i,end=' ')\n",
    "print('')\n",
    "print('after: ',end='')\n",
    "for i in reversed(a):\n",
    "    print(i,end=' ')"
   ]
  },
  {
   "cell_type": "code",
   "execution_count": 32,
   "metadata": {},
   "outputs": [
    {
     "name": "stdout",
     "output_type": "stream",
     "text": [
      "7\n",
      "13\n",
      "2\n",
      "10\n",
      "6\n",
      "[2, 6, 7, 10, 13]\n"
     ]
    }
   ],
   "source": [
    "a = []\n",
    "for i in range(5):\n",
    "    a.append(int(input()))\n",
    "print(sorted(a))"
   ]
  },
  {
   "cell_type": "code",
   "execution_count": 45,
   "metadata": {},
   "outputs": [
    {
     "name": "stdout",
     "output_type": "stream",
     "text": [
      "7\n",
      "13\n",
      "2\n",
      "10\n",
      "6\n",
      "[13, 10, 7, 6, 2]\n"
     ]
    }
   ],
   "source": [
    "a = []\n",
    "for i in range(5):\n",
    "    a.append(int(input()))\n",
    "a.sort(reverse=True)\n",
    "print(a)"
   ]
  },
  {
   "cell_type": "code",
   "execution_count": 46,
   "metadata": {},
   "outputs": [
    {
     "name": "stdout",
     "output_type": "stream",
     "text": [
      "1\n",
      "2\n",
      "3\n",
      "4\n",
      "5\n",
      "6\n",
      "7\n",
      "8\n",
      "9\n",
      "10\n",
      "[10, 9, 8, 7, 6, 5, 4, 3, 2, 1]\n"
     ]
    }
   ],
   "source": [
    "a = []\n",
    "for i in range(10):\n",
    "    a.append(int(input()))\n",
    "a.sort(reverse=True)\n",
    "print(a)"
   ]
  },
  {
   "cell_type": "code",
   "execution_count": 47,
   "metadata": {},
   "outputs": [
    {
     "name": "stdout",
     "output_type": "stream",
     "text": [
      "1\n",
      "You have entered:  [1]\n",
      "2\n",
      "You have entered:  [1, 2]\n",
      "3\n",
      "You have entered:  [1, 2, 3]\n",
      "4\n",
      "You have entered:  [1, 2, 3, 4]\n",
      "5\n",
      "You have entered:  [1, 2, 3, 4, 5]\n",
      "6\n",
      "You have entered:  [1, 2, 3, 4, 5, 6]\n",
      "7\n",
      "You have entered:  [1, 2, 3, 4, 5, 6, 7]\n",
      "8\n",
      "You have entered:  [1, 2, 3, 4, 5, 6, 7, 8]\n",
      "9\n",
      "You have entered:  [1, 2, 3, 4, 5, 6, 7, 8, 9]\n",
      "10\n",
      "You have entered:  [1, 2, 3, 4, 5, 6, 7, 8, 9, 10]\n"
     ]
    }
   ],
   "source": [
    "a = []\n",
    "for i in range(10):\n",
    "    a.append(int(input()))\n",
    "    print('You have entered: ',a)"
   ]
  },
  {
   "cell_type": "code",
   "execution_count": 55,
   "metadata": {},
   "outputs": [
    {
     "name": "stdout",
     "output_type": "stream",
     "text": [
      "2\n",
      "3\n",
      "4\n",
      "6\n",
      "3\n",
      "3 is already in among the entered numbers\n",
      "6\n",
      "6 is already in among the entered numbers\n",
      "5\n",
      "Five unique number: [2, 3, 4, 6, 5]\n"
     ]
    }
   ],
   "source": [
    "a = []\n",
    "i = 0\n",
    "while(i<5):\n",
    "    b = int(input())\n",
    "    if b not in a:\n",
    "        a.append(b)\n",
    "        i+=1\n",
    "    else:\n",
    "        print(b,'is already in among the entered numbers')\n",
    "print('Five unique number:',a)"
   ]
  },
  {
   "cell_type": "code",
   "execution_count": 1,
   "metadata": {},
   "outputs": [
    {
     "name": "stdout",
     "output_type": "stream",
     "text": [
      "2\n",
      "2\n",
      "2\n",
      "2\n",
      "2\n",
      "2 is already 4 time in among the entered numbers\n",
      "42\n",
      "2\n",
      "2 is already 4 time in among the entered numbers\n",
      "5\n",
      "6\n",
      "7\n",
      "8\n",
      "5\n",
      " number: [2, 2, 2, 2, 42, 5, 6, 7, 8, 5]\n"
     ]
    }
   ],
   "source": [
    "a = []\n",
    "i = 0\n",
    "while(i<10):\n",
    "    b = int(input())\n",
    "    if b not in a:\n",
    "        a.append(b)\n",
    "        i+=1\n",
    "    elif a.count(b) < 4:\n",
    "        a.append(b)\n",
    "        i+=1\n",
    "    else:\n",
    "        print(b,'is already 4 time in among the entered numbers')\n",
    "print(' number:',a)"
   ]
  },
  {
   "cell_type": "code",
   "execution_count": 13,
   "metadata": {},
   "outputs": [
    {
     "name": "stdout",
     "output_type": "stream",
     "text": [
      "4\n",
      "3\n",
      "2\n",
      "5\n",
      "2\n",
      "3\n",
      "2\n",
      "0\n",
      "2\n",
      "3\n",
      "[3, 2]\n"
     ]
    }
   ],
   "source": [
    "a = []\n",
    "c =[]\n",
    "for i in range(10):\n",
    "    a.append(int(input()))\n",
    "# a=[4,3,2,5,2,3,2,0,2,3]\n",
    "for i in a:\n",
    "    b = a.count(i)\n",
    "    if i not in c:\n",
    "        if b <5 and b >1:\n",
    "            c.append(i)\n",
    "print(c)\n",
    "        "
   ]
  },
  {
   "cell_type": "code",
   "execution_count": 9,
   "metadata": {},
   "outputs": [
    {
     "data": {
      "text/plain": [
       "True"
      ]
     },
     "execution_count": 9,
     "metadata": {},
     "output_type": "execute_result"
    }
   ],
   "source": []
  },
  {
   "cell_type": "code",
   "execution_count": null,
   "metadata": {
    "collapsed": true
   },
   "outputs": [],
   "source": []
  }
 ],
 "metadata": {
  "kernelspec": {
   "display_name": "Python 3",
   "language": "python",
   "name": "python3"
  },
  "language_info": {
   "codemirror_mode": {
    "name": "ipython",
    "version": 3
   },
   "file_extension": ".py",
   "mimetype": "text/x-python",
   "name": "python",
   "nbconvert_exporter": "python",
   "pygments_lexer": "ipython3",
   "version": "3.6.2"
  }
 },
 "nbformat": 4,
 "nbformat_minor": 2
}
