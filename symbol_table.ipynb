{
 "cells": [
  {
   "cell_type": "code",
   "execution_count": 1,
   "metadata": {
    "collapsed": true
   },
   "outputs": [],
   "source": [
    "import pandas as pd"
   ]
  },
  {
   "cell_type": "code",
   "execution_count": 2,
   "metadata": {},
   "outputs": [
    {
     "data": {
      "text/html": [
       "<div>\n",
       "<style>\n",
       "    .dataframe thead tr:only-child th {\n",
       "        text-align: right;\n",
       "    }\n",
       "\n",
       "    .dataframe thead th {\n",
       "        text-align: left;\n",
       "    }\n",
       "\n",
       "    .dataframe tbody tr th {\n",
       "        vertical-align: top;\n",
       "    }\n",
       "</style>\n",
       "<table border=\"1\" class=\"dataframe\">\n",
       "  <thead>\n",
       "    <tr style=\"text-align: right;\">\n",
       "      <th></th>\n",
       "      <th>keyword</th>\n",
       "      <th>Arithmetic Operators</th>\n",
       "      <th>Logical Operators</th>\n",
       "      <th>Bitwise Operators</th>\n",
       "      <th>Other Operators</th>\n",
       "    </tr>\n",
       "  </thead>\n",
       "  <tbody>\n",
       "    <tr>\n",
       "      <th>0</th>\n",
       "      <td>auto</td>\n",
       "      <td>+</td>\n",
       "      <td>==</td>\n",
       "      <td>&amp;</td>\n",
       "      <td>,</td>\n",
       "    </tr>\n",
       "    <tr>\n",
       "      <th>1</th>\n",
       "      <td>break</td>\n",
       "      <td>-</td>\n",
       "      <td>&gt;</td>\n",
       "      <td>|</td>\n",
       "      <td>{</td>\n",
       "    </tr>\n",
       "    <tr>\n",
       "      <th>2</th>\n",
       "      <td>case</td>\n",
       "      <td>*</td>\n",
       "      <td>&lt;</td>\n",
       "      <td>^</td>\n",
       "      <td>}</td>\n",
       "    </tr>\n",
       "    <tr>\n",
       "      <th>3</th>\n",
       "      <td>char</td>\n",
       "      <td>/</td>\n",
       "      <td>!=</td>\n",
       "      <td>~</td>\n",
       "      <td>(</td>\n",
       "    </tr>\n",
       "    <tr>\n",
       "      <th>4</th>\n",
       "      <td>const</td>\n",
       "      <td>=</td>\n",
       "      <td>&gt;=</td>\n",
       "      <td>&lt;&lt;</td>\n",
       "      <td>)</td>\n",
       "    </tr>\n",
       "  </tbody>\n",
       "</table>\n",
       "</div>"
      ],
      "text/plain": [
       "  keyword Arithmetic Operators Logical Operators Bitwise Operators  \\\n",
       "0    auto                    +                ==                 &   \n",
       "1   break                    -                 >                 |   \n",
       "2    case                    *                 <                 ^   \n",
       "3    char                    /                !=                 ~   \n",
       "4   const                    =                >=                <<   \n",
       "\n",
       "  Other Operators  \n",
       "0               ,  \n",
       "1               {  \n",
       "2               }  \n",
       "3               (  \n",
       "4               )  "
      ]
     },
     "execution_count": 2,
     "metadata": {},
     "output_type": "execute_result"
    }
   ],
   "source": [
    "df = pd.read_csv('Keywords.csv')\n",
    "df.head()"
   ]
  },
  {
   "cell_type": "code",
   "execution_count": 15,
   "metadata": {},
   "outputs": [],
   "source": [
    "file = \"\"\"\n",
    "int a , b , c ;\n",
    "float d , e ;\n",
    "a = b = 5 ;\n",
    "c = 6 ;\n",
    "if ( a > b )\n",
    "{\n",
    "    c = a - b ;\n",
    "    e = d - 2.0 ;\n",
    "}\n",
    "else\n",
    "{\n",
    "    d = e + 6.0 ;\n",
    "    b = a + c ;\n",
    "}\n",
    "\n",
    "\n",
    "\"\"\"\n",
    "# Output:\n",
    "# Keywords: int, float, if, else\n",
    "# Identifiers: a, b, c, d, e\n",
    "# Math Operators: +, -, =\n",
    "# Logical Operators: >\n",
    "# Numerical Values: 5, 6, 2.0, 6.0\n",
    "# Others: , ; ( ) { }"
   ]
  },
  {
   "cell_type": "code",
   "execution_count": 16,
   "metadata": {},
   "outputs": [],
   "source": [
    "keyword = df['keyword'].dropna().values\n",
    "math_oprator = df['Arithmetic Operators'].dropna().values\n",
    "logical = df['Logical Operators'].dropna().values\n",
    "bitwise = df['Bitwise Operators'].dropna().values\n",
    "other = df['Other Operators'].dropna().values"
   ]
  },
  {
   "cell_type": "code",
   "execution_count": 5,
   "metadata": {},
   "outputs": [],
   "source": [
    "inputs = file.split()"
   ]
  },
  {
   "cell_type": "code",
   "execution_count": 17,
   "metadata": {},
   "outputs": [],
   "source": [
    "def symbol_table (inputs):    \n",
    "    k = []\n",
    "    m = []\n",
    "    l = []\n",
    "    b = []\n",
    "    o = []\n",
    "    n = []\n",
    "    i = []\n",
    "    f = []\n",
    "    \n",
    "    for data in inputs:\n",
    "        if data in keyword:\n",
    "            if data not in k:\n",
    "                k.append(data)\n",
    "        elif data in math_oprator:\n",
    "            if data not in m:\n",
    "                m.append(data)\n",
    "        elif data in logical:\n",
    "            if data not in l:\n",
    "                l.append(data)\n",
    "        elif data in bitwise:\n",
    "            if data not in b:\n",
    "                b.append(data)\n",
    "        elif data in other:\n",
    "            if data not in o:\n",
    "                o.append(data)\n",
    "        else:\n",
    "            try:\n",
    "                num = int(data)\n",
    "                if num not in n:\n",
    "                    n.append(num)\n",
    "            except:\n",
    "                try:\n",
    "                    num = float(data)\n",
    "                    if num not in f:\n",
    "                        f.append(num)\n",
    "                except:\n",
    "                    if data not in i:\n",
    "                        i.append(data)\n",
    "    \n",
    "    outputs = {\n",
    "        'Keywords': k,\n",
    "        'Identifiers' : i,\n",
    "        'Math Operators' : m,\n",
    "        'Logical Operators' : l + b,\n",
    "#         'Bitwise Operators' : b,\n",
    "        'Numerical Values' : n + f,\n",
    "        'Others' : o\n",
    "    }\n",
    "    \n",
    "    return outputs"
   ]
  },
  {
   "cell_type": "code",
   "execution_count": 18,
   "metadata": {
    "collapsed": true
   },
   "outputs": [],
   "source": [
    "table = symbol_table(inputs=inputs)"
   ]
  },
  {
   "cell_type": "code",
   "execution_count": 19,
   "metadata": {},
   "outputs": [
    {
     "data": {
      "text/html": [
       "<div>\n",
       "<style>\n",
       "    .dataframe thead tr:only-child th {\n",
       "        text-align: right;\n",
       "    }\n",
       "\n",
       "    .dataframe thead th {\n",
       "        text-align: left;\n",
       "    }\n",
       "\n",
       "    .dataframe tbody tr th {\n",
       "        vertical-align: top;\n",
       "    }\n",
       "</style>\n",
       "<table border=\"1\" class=\"dataframe\">\n",
       "  <thead>\n",
       "    <tr style=\"text-align: right;\">\n",
       "      <th></th>\n",
       "      <th>Keywords</th>\n",
       "      <th>Identifiers</th>\n",
       "      <th>Math Operators</th>\n",
       "      <th>Logical Operators</th>\n",
       "      <th>Numerical Values</th>\n",
       "      <th>Others</th>\n",
       "    </tr>\n",
       "  </thead>\n",
       "  <tbody>\n",
       "    <tr>\n",
       "      <th>0</th>\n",
       "      <td>[int, float, if, else]</td>\n",
       "      <td>[a, b, c, d, e]</td>\n",
       "      <td>[=, -, +]</td>\n",
       "      <td>[&gt;]</td>\n",
       "      <td>[5, 6, 2.0, 6.0]</td>\n",
       "      <td>[,, ;, (, ), {, }]</td>\n",
       "    </tr>\n",
       "  </tbody>\n",
       "</table>\n",
       "</div>"
      ],
      "text/plain": [
       "                 Keywords      Identifiers Math Operators Logical Operators  \\\n",
       "0  [int, float, if, else]  [a, b, c, d, e]      [=, -, +]               [>]   \n",
       "\n",
       "   Numerical Values              Others  \n",
       "0  [5, 6, 2.0, 6.0]  [,, ;, (, ), {, }]  "
      ]
     },
     "execution_count": 19,
     "metadata": {},
     "output_type": "execute_result"
    }
   ],
   "source": [
    "df1 = pd.DataFrame([table], columns=table.keys())\n",
    "df1"
   ]
  },
  {
   "cell_type": "code",
   "execution_count": 20,
   "metadata": {},
   "outputs": [
    {
     "name": "stdout",
     "output_type": "stream",
     "text": [
      "Keywords ['int', 'float', 'if', 'else']\n",
      "Identifiers ['a', 'b', 'c', 'd', 'e']\n",
      "Math Operators ['=', '-', '+']\n",
      "Logical Operators ['>']\n",
      "Numerical Values [5, 6, 2.0, 6.0]\n",
      "Others [',', ';', '(', ')', '{', '}']\n"
     ]
    }
   ],
   "source": [
    "for i in table:\n",
    "    print(i, table[i])"
   ]
  }
 ],
 "metadata": {
  "kernelspec": {
   "display_name": "Python 3",
   "language": "python",
   "name": "python3"
  },
  "language_info": {
   "codemirror_mode": {
    "name": "ipython",
    "version": 3
   },
   "file_extension": ".py",
   "mimetype": "text/x-python",
   "name": "python",
   "nbconvert_exporter": "python",
   "pygments_lexer": "ipython3",
   "version": "3.6.2"
  }
 },
 "nbformat": 4,
 "nbformat_minor": 2
}
